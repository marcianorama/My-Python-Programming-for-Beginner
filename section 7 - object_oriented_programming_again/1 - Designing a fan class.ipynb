{
 "cells": [
  {
   "cell_type": "markdown",
   "metadata": {},
   "source": [
    "### Designing a fan class"
   ]
  },
  {
   "cell_type": "code",
   "execution_count": 1,
   "metadata": {},
   "outputs": [
    {
     "name": "stdout",
     "output_type": "stream",
     "text": [
      "('Manufacturer 1', 5, 'Green', 3, True)\n",
      "('Manufacturer 1', 5, 'Green', 0, False)\n"
     ]
    }
   ],
   "source": [
    "# State\n",
    "\n",
    "# make\n",
    "# radius\n",
    "# color\n",
    "# speed\n",
    "# is_on\n",
    "\n",
    "# Behavior\n",
    "\n",
    "# switch_on\n",
    "# switch_off\n",
    "# increase_speed\n",
    "# decrease_speed\n",
    "\n",
    "class Fan:\n",
    "    def __init__(self, make, radius, color):\n",
    "        self.make = make\n",
    "        self.radius = radius\n",
    "        self.color = color\n",
    "        self.speed = 0\n",
    "        self.is_on = False\n",
    "\n",
    "    def __repr__(self):\n",
    "        return repr((self.make,self.radius,self.color,self.speed,self.is_on))\n",
    "\n",
    "    def switch_on(self):\n",
    "        self.is_on = True\n",
    "        self.speed = 3\n",
    "\n",
    "    def switch_off(self):\n",
    "        self.is_on = False\n",
    "        self.speed = 0\n",
    "\n",
    "# increase_speed\n",
    "# decrease_speed\n",
    "\n",
    "\n",
    "fan = Fan('Manufacturer 1', 5, 'Green')\n",
    "fan.switch_on()\n",
    "print(fan)\n",
    "fan.switch_off()\n",
    "print(fan)"
   ]
  },
  {
   "cell_type": "code",
   "execution_count": null,
   "metadata": {},
   "outputs": [],
   "source": []
  }
 ],
 "metadata": {
  "kernelspec": {
   "display_name": "Python 3",
   "language": "python",
   "name": "python3"
  },
  "language_info": {
   "codemirror_mode": {
    "name": "ipython",
    "version": 3
   },
   "file_extension": ".py",
   "mimetype": "text/x-python",
   "name": "python",
   "nbconvert_exporter": "python",
   "pygments_lexer": "ipython3",
   "version": "3.7.1"
  }
 },
 "nbformat": 4,
 "nbformat_minor": 2
}
