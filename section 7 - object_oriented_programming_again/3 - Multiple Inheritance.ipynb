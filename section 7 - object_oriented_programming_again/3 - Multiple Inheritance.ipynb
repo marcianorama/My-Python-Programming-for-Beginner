{
 "cells": [
  {
   "cell_type": "code",
   "execution_count": 2,
   "metadata": {},
   "outputs": [],
   "source": [
    "class LandAnimal:\n",
    "    def __init__(self):\n",
    "        super().__init__()\n",
    "        self.walking_speed = 5\n",
    "\n",
    "    def increase_walking_speed(self, how_much):\n",
    "        self.walking_speed += how_much\n",
    "\n",
    "class WaterAnimal:\n",
    "    def __init__(self):\n",
    "        super().__init__()\n",
    "        self.swimming_speed = 10\n",
    "\n",
    "    def increase_swimming_speed(self, how_much):\n",
    "        self.swimming_speed += how_much\n",
    "\n",
    "# so if those class have any method than the amphibian class will also inherit from that\n",
    "class Amphibian(WaterAnimal, LandAnimal):\n",
    "    def __init__(self):\n",
    "        super().__init__()"
   ]
  },
  {
   "cell_type": "code",
   "execution_count": 3,
   "metadata": {},
   "outputs": [
    {
     "name": "stdout",
     "output_type": "stream",
     "text": [
      "35\n",
      "55\n"
     ]
    }
   ],
   "source": [
    "amphibian = Amphibian()\n",
    "amphibian.increase_swimming_speed(25)\n",
    "amphibian.increase_walking_speed(50)\n",
    "print(amphibian.swimming_speed)\n",
    "print(amphibian.walking_speed)"
   ]
  },
  {
   "cell_type": "code",
   "execution_count": null,
   "metadata": {},
   "outputs": [],
   "source": []
  }
 ],
 "metadata": {
  "kernelspec": {
   "display_name": "Python 3",
   "language": "python",
   "name": "python3"
  },
  "language_info": {
   "codemirror_mode": {
    "name": "ipython",
    "version": 3
   },
   "file_extension": ".py",
   "mimetype": "text/x-python",
   "name": "python",
   "nbconvert_exporter": "python",
   "pygments_lexer": "ipython3",
   "version": "3.7.1"
  }
 },
 "nbformat": 4,
 "nbformat_minor": 2
}
