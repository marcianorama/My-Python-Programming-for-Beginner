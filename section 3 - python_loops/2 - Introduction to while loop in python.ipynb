{
 "cells": [
  {
   "cell_type": "markdown",
   "metadata": {},
   "source": [
    "# Introduction to while loop in python"
   ]
  },
  {
   "cell_type": "code",
   "execution_count": 2,
   "metadata": {},
   "outputs": [
    {
     "name": "stdout",
     "output_type": "stream",
     "text": [
      "0\n",
      "1\n",
      "2\n",
      "3\n",
      "4\n"
     ]
    }
   ],
   "source": [
    "i=0\n",
    "while(i<5):\n",
    "    print(i)\n",
    "    i=i+1"
   ]
  },
  {
   "cell_type": "code",
   "execution_count": 3,
   "metadata": {},
   "outputs": [
    {
     "name": "stdout",
     "output_type": "stream",
     "text": [
      "0 1 2 3 4 "
     ]
    }
   ],
   "source": [
    "i=0\n",
    "while(i<5):\n",
    "    print(i, end=\" \")\n",
    "    i=i+1"
   ]
  },
  {
   "cell_type": "code",
   "execution_count": 4,
   "metadata": {},
   "outputs": [
    {
     "name": "stdout",
     "output_type": "stream",
     "text": [
      "0\n",
      "1\n",
      "2\n",
      "3\n",
      "4\n"
     ]
    }
   ],
   "source": [
    "# if use for\n",
    "for i in range (0,5):\n",
    "    print(i)"
   ]
  },
  {
   "cell_type": "markdown",
   "metadata": {},
   "source": [
    "# While loop exercise 1"
   ]
  },
  {
   "cell_type": "code",
   "execution_count": 11,
   "metadata": {},
   "outputs": [],
   "source": [
    "# print square up to limit (30)\n",
    "# for limit = 30 , output would be 1,4,9,16,25\n",
    "\n",
    "def print_square_up_to_limit(limit):\n",
    "    i=1\n",
    "    while i * i < limit:\n",
    "        print(i*i, end=\" \")\n",
    "        i=i+1"
   ]
  },
  {
   "cell_type": "code",
   "execution_count": 12,
   "metadata": {},
   "outputs": [
    {
     "name": "stdout",
     "output_type": "stream",
     "text": [
      "1 4 9 16 25 None\n"
     ]
    }
   ],
   "source": [
    "print(print_square_up_to_limit(30))"
   ]
  },
  {
   "cell_type": "code",
   "execution_count": 13,
   "metadata": {},
   "outputs": [
    {
     "name": "stdout",
     "output_type": "stream",
     "text": [
      "1 4 9 16 25 36 49 None\n"
     ]
    }
   ],
   "source": [
    "print(print_square_up_to_limit(60))"
   ]
  },
  {
   "cell_type": "code",
   "execution_count": 14,
   "metadata": {},
   "outputs": [
    {
     "name": "stdout",
     "output_type": "stream",
     "text": [
      "1 4 9 16 25 36 49 64 None\n"
     ]
    }
   ],
   "source": [
    "print(print_square_up_to_limit(80))"
   ]
  },
  {
   "cell_type": "code",
   "execution_count": 19,
   "metadata": {},
   "outputs": [],
   "source": [
    "# print cube up to limit (30)\n",
    "# for limit = 30 , output would be 1,4,9,16\n",
    "\n",
    "def print_cubes_up_to_limit(limit):\n",
    "    i=1\n",
    "    while i * i * i < limit:\n",
    "        print(i*i*i, end=\" \")\n",
    "        i=i+1"
   ]
  },
  {
   "cell_type": "code",
   "execution_count": 20,
   "metadata": {},
   "outputs": [
    {
     "name": "stdout",
     "output_type": "stream",
     "text": [
      "1 8 27 64 None\n"
     ]
    }
   ],
   "source": [
    "print(print_cubes_up_to_limit(80))"
   ]
  },
  {
   "cell_type": "markdown",
   "metadata": {},
   "source": [
    "# While Loop Exercise 2  - Menu"
   ]
  },
  {
   "cell_type": "code",
   "execution_count": null,
   "metadata": {},
   "outputs": [],
   "source": [
    "number1=int(input(\"Enter Number1 :\"))\n",
    "number2=int(input(\"Enter Number2 :\"))\n",
    "\n",
    "print(\"\\n\\n1 - Add\")\n",
    "print(\"2 - Subtract\")\n",
    "print(\"3 - Divide\")\n",
    "print(\"4 - Multiply\")\n",
    "print(\"5 - Exit\")\n",
    "\n",
    "choice=int(input(\"Choose Operation\"))\n",
    "\n",
    "while(choice!=5):\n",
    "    if(choice==1):\n",
    "        operator = \"+\"\n",
    "        result = number1+number2\n",
    "    elif(choice==2):\n",
    "        operator = \"-\"\n",
    "        result = number1-number2\n",
    "    elif(choice==3):\n",
    "        operator = \"/\"\n",
    "        result = number1/number2\n",
    "    elif(choice==4):\n",
    "        operator = \"*\"\n",
    "        result = number1*number2\n",
    "    else:\n",
    "        result = \"Invalid Choice\"\n",
    "\n",
    "    print(\"You choice \",choice)\n",
    "    print(\"The result \",number1,operator,number2, \"=\",result)\n",
    "\n",
    "print(\"Thank You\")"
   ]
  },
  {
   "cell_type": "markdown",
   "metadata": {},
   "source": [
    "### Loop puzzle break and continue"
   ]
  },
  {
   "cell_type": "code",
   "execution_count": 1,
   "metadata": {},
   "outputs": [
    {
     "name": "stdout",
     "output_type": "stream",
     "text": [
      "1 2 3 4 done\n"
     ]
    }
   ],
   "source": [
    "for i in range(1,11):\n",
    "    if(i==5):\n",
    "        break\n",
    "    print(i, end=' ')\n",
    "print('done')"
   ]
  },
  {
   "cell_type": "code",
   "execution_count": 5,
   "metadata": {},
   "outputs": [
    {
     "name": "stdout",
     "output_type": "stream",
     "text": [
      "1 3 5 7 9 done\n"
     ]
    }
   ],
   "source": [
    "for i in range(1,11):\n",
    "    if(i%2==0):\n",
    "        continue\n",
    "    print(i, end=' ')\n",
    "print('done')"
   ]
  },
  {
   "cell_type": "code",
   "execution_count": 6,
   "metadata": {},
   "outputs": [
    {
     "name": "stdout",
     "output_type": "stream",
     "text": [
      "2 4 6 8 10 done\n"
     ]
    }
   ],
   "source": [
    "for i in range(1,11):\n",
    "    if(i%2!=0):\n",
    "        continue\n",
    "    print(i, end=' ')\n",
    "print('done')"
   ]
  },
  {
   "cell_type": "code",
   "execution_count": null,
   "metadata": {},
   "outputs": [],
   "source": []
  }
 ],
 "metadata": {
  "kernelspec": {
   "display_name": "Python 3",
   "language": "python",
   "name": "python3"
  },
  "language_info": {
   "codemirror_mode": {
    "name": "ipython",
    "version": 3
   },
   "file_extension": ".py",
   "mimetype": "text/x-python",
   "name": "python",
   "nbconvert_exporter": "python",
   "pygments_lexer": "ipython3",
   "version": "3.7.1"
  }
 },
 "nbformat": 4,
 "nbformat_minor": 2
}
