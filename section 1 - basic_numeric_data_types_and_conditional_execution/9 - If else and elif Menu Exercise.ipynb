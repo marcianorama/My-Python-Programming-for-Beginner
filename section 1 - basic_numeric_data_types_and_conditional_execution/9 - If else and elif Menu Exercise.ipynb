{
 "cells": [
  {
   "cell_type": "markdown",
   "metadata": {},
   "source": [
    "# If else and elif Menu Exercise"
   ]
  },
  {
   "cell_type": "code",
   "execution_count": 1,
   "metadata": {},
   "outputs": [
    {
     "name": "stdout",
     "output_type": "stream",
     "text": [
      "i is 2\n"
     ]
    }
   ],
   "source": [
    "i=2\n",
    "if i ==1:\n",
    "    print(\"i is 1\")\n",
    "elif i==2:\n",
    "    print(\"i is 2\")\n",
    "elif i==3:\n",
    "    print(\"i is 3\")\n",
    "else:\n",
    "    print(\" i is not 1,2 or 3\")"
   ]
  },
  {
   "cell_type": "code",
   "execution_count": 2,
   "metadata": {},
   "outputs": [
    {
     "name": "stdout",
     "output_type": "stream",
     "text": [
      "Enter a Value12\n",
      "you entered ,  12\n",
      "<class 'int'>\n"
     ]
    }
   ],
   "source": [
    "value = input(\"Enter a Value\")\n",
    "integer_value=int(value)\n",
    "print(\"you entered , \", integer_value)\n",
    "print(type(integer_value))"
   ]
  },
  {
   "cell_type": "code",
   "execution_count": 14,
   "metadata": {},
   "outputs": [
    {
     "name": "stdout",
     "output_type": "stream",
     "text": [
      "Enter Number1 :12\n",
      "Enter Number2 :3\n",
      "\n",
      "\n",
      "1 - Add\n",
      "2 - Subtract\n",
      "3 - Divide\n",
      "4 - Multiply\n",
      "Choose Operation3\n",
      "You choice  3\n",
      "The result  12 / 3 = 4.0\n"
     ]
    }
   ],
   "source": [
    "number1=int(input(\"Enter Number1 :\"))\n",
    "number2=int(input(\"Enter Number2 :\"))\n",
    "\n",
    "print(\"\\n\\n1 - Add\")\n",
    "print(\"2 - Subtract\")\n",
    "print(\"3 - Divide\")\n",
    "print(\"4 - Multiply\")\n",
    "\n",
    "choice=int(input(\"Choose Operation\"))\n",
    "\n",
    "if(choice==1):\n",
    "    operator = \"+\"\n",
    "    result = number1+number2\n",
    "elif(choice==2):\n",
    "    operator = \"-\"\n",
    "    result = number1-number2\n",
    "elif(choice==3):\n",
    "    operator = \"/\"\n",
    "    result = number1/number2\n",
    "elif(choice==4):\n",
    "    operator = \"*\"\n",
    "    result = number1*number2\n",
    "else:\n",
    "    result = \"Invalid Choice\"\n",
    "\n",
    "print(\"You choice \",choice)\n",
    "print(\"The result \",number1,operator,number2, \"=\",result)"
   ]
  }
 ],
 "metadata": {
  "kernelspec": {
   "display_name": "Python 3",
   "language": "python",
   "name": "python3"
  },
  "language_info": {
   "codemirror_mode": {
    "name": "ipython",
    "version": 3
   },
   "file_extension": ".py",
   "mimetype": "text/x-python",
   "name": "python",
   "nbconvert_exporter": "python",
   "pygments_lexer": "ipython3",
   "version": "3.7.1"
  }
 },
 "nbformat": 4,
 "nbformat_minor": 2
}
