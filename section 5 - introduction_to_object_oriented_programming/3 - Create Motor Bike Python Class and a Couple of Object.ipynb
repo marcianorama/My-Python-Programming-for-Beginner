{
 "cells": [
  {
   "cell_type": "markdown",
   "metadata": {},
   "source": [
    "### Create Motor Bike Python Class and a Couple of Object"
   ]
  },
  {
   "cell_type": "markdown",
   "metadata": {},
   "source": [
    "## Motor Class"
   ]
  },
  {
   "cell_type": "code",
   "execution_count": 1,
   "metadata": {},
   "outputs": [],
   "source": [
    "# Class\n",
    "class MotorBike:\n",
    "    # constructor\n",
    "    def __init__(self, speed):\n",
    "        self.speed = speed #State\n",
    "\n",
    "    # Behavior\n",
    "    def increase_speed(self, how_much):\n",
    "        self.speed += how_much\n",
    "\n",
    "    # Behavior\n",
    "    def decrease_speed(self, how_much):\n",
    "        if(self.speed-how_much>0):\n",
    "            self.speed -= how_much\n",
    "        else:\n",
    "            print(\"Get a life\")"
   ]
  },
  {
   "cell_type": "code",
   "execution_count": 2,
   "metadata": {},
   "outputs": [],
   "source": [
    "# instance 1 or object 1\n",
    "honda = MotorBike(50)"
   ]
  },
  {
   "cell_type": "code",
   "execution_count": 3,
   "metadata": {},
   "outputs": [],
   "source": [
    "# instance 2 or object 2\n",
    "ducati = MotorBike(250)"
   ]
  },
  {
   "cell_type": "code",
   "execution_count": 5,
   "metadata": {},
   "outputs": [
    {
     "name": "stdout",
     "output_type": "stream",
     "text": [
      "<__main__.MotorBike object at 0x1082a1898>\n"
     ]
    }
   ],
   "source": [
    "print(honda)"
   ]
  },
  {
   "cell_type": "code",
   "execution_count": 6,
   "metadata": {},
   "outputs": [
    {
     "name": "stdout",
     "output_type": "stream",
     "text": [
      "<__main__.MotorBike object at 0x1082a1940>\n"
     ]
    }
   ],
   "source": [
    "print(ducati)"
   ]
  },
  {
   "cell_type": "code",
   "execution_count": 7,
   "metadata": {},
   "outputs": [],
   "source": [
    "# State changes through behavior of the object\n",
    "honda.increase_speed(150)\n",
    "ducati.increase_speed(25)"
   ]
  },
  {
   "cell_type": "code",
   "execution_count": 8,
   "metadata": {},
   "outputs": [],
   "source": [
    "# State changes through behavior of the object\n",
    "honda.decrease_speed(50)\n",
    "ducati.decrease_speed(25)"
   ]
  },
  {
   "cell_type": "code",
   "execution_count": 9,
   "metadata": {},
   "outputs": [
    {
     "name": "stdout",
     "output_type": "stream",
     "text": [
      "Get a life\n"
     ]
    }
   ],
   "source": [
    "honda.decrease_speed(350)"
   ]
  },
  {
   "cell_type": "code",
   "execution_count": 10,
   "metadata": {},
   "outputs": [
    {
     "name": "stdout",
     "output_type": "stream",
     "text": [
      "150\n"
     ]
    }
   ],
   "source": [
    "print(honda.speed)"
   ]
  },
  {
   "cell_type": "code",
   "execution_count": 11,
   "metadata": {},
   "outputs": [
    {
     "name": "stdout",
     "output_type": "stream",
     "text": [
      "250\n"
     ]
    }
   ],
   "source": [
    "print(ducati.speed)"
   ]
  },
  {
   "cell_type": "code",
   "execution_count": 12,
   "metadata": {},
   "outputs": [],
   "source": [
    "honda.speed = 150"
   ]
  },
  {
   "cell_type": "code",
   "execution_count": 13,
   "metadata": {},
   "outputs": [
    {
     "name": "stdout",
     "output_type": "stream",
     "text": [
      "150\n",
      "250\n"
     ]
    }
   ],
   "source": [
    "print(honda.speed)\n",
    "print(ducati.speed)"
   ]
  },
  {
   "cell_type": "markdown",
   "metadata": {},
   "source": [
    "## Book Class"
   ]
  },
  {
   "cell_type": "code",
   "execution_count": 2,
   "metadata": {},
   "outputs": [],
   "source": [
    "class Book:\n",
    "    # constructor\n",
    "    def __init__(self, name, copies=0):\n",
    "        self.name = name\n",
    "        self.copies = copies\n",
    "\n",
    "    def increase_copies(self, how_much):\n",
    "        self.copies += how_much\n",
    "\n",
    "    def decrease_copies(self, how_much):\n",
    "        self.copies -= how_much"
   ]
  },
  {
   "cell_type": "code",
   "execution_count": 15,
   "metadata": {},
   "outputs": [],
   "source": [
    "the_art_of_computer_programming = Book('The Art of Computer Programming')\n",
    "learning_python = Book('Learning Python in 100 Steps', 100)\n",
    "learning_restful_services = Book('Learning RestFul Service in 50 Steps')"
   ]
  },
  {
   "cell_type": "code",
   "execution_count": 16,
   "metadata": {},
   "outputs": [
    {
     "name": "stdout",
     "output_type": "stream",
     "text": [
      "The Art of Computer Programming\n"
     ]
    }
   ],
   "source": [
    "print(the_art_of_computer_programming.name)"
   ]
  },
  {
   "cell_type": "code",
   "execution_count": 17,
   "metadata": {},
   "outputs": [
    {
     "name": "stdout",
     "output_type": "stream",
     "text": [
      "Learning Python in 100 Steps\n"
     ]
    }
   ],
   "source": [
    "print(learning_python.name)"
   ]
  },
  {
   "cell_type": "code",
   "execution_count": 18,
   "metadata": {},
   "outputs": [
    {
     "name": "stdout",
     "output_type": "stream",
     "text": [
      "Learning RestFul Service in 50 Steps\n"
     ]
    }
   ],
   "source": [
    "print(learning_restful_services.name)"
   ]
  },
  {
   "cell_type": "code",
   "execution_count": 19,
   "metadata": {},
   "outputs": [],
   "source": [
    "learning_python.increase_copies(25)\n",
    "learning_python.decrease_copies(10)\n",
    "learning_python.copies = 50"
   ]
  },
  {
   "cell_type": "code",
   "execution_count": 20,
   "metadata": {},
   "outputs": [
    {
     "name": "stdout",
     "output_type": "stream",
     "text": [
      "50\n"
     ]
    }
   ],
   "source": [
    "print(learning_python.copies)"
   ]
  },
  {
   "cell_type": "markdown",
   "metadata": {},
   "source": [
    "### OOP Puzzle"
   ]
  },
  {
   "cell_type": "code",
   "execution_count": 23,
   "metadata": {},
   "outputs": [],
   "source": [
    "class Planet:pass"
   ]
  },
  {
   "cell_type": "code",
   "execution_count": 25,
   "metadata": {},
   "outputs": [],
   "source": [
    "earth = Planet()"
   ]
  },
  {
   "cell_type": "code",
   "execution_count": 26,
   "metadata": {},
   "outputs": [],
   "source": [
    "earth.name='Earth'"
   ]
  },
  {
   "cell_type": "code",
   "execution_count": 27,
   "metadata": {},
   "outputs": [
    {
     "data": {
      "text/plain": [
       "'Earth'"
      ]
     },
     "execution_count": 27,
     "metadata": {},
     "output_type": "execute_result"
    }
   ],
   "source": [
    "earth.name"
   ]
  },
  {
   "cell_type": "code",
   "execution_count": null,
   "metadata": {},
   "outputs": [],
   "source": []
  }
 ],
 "metadata": {
  "kernelspec": {
   "display_name": "Python 3",
   "language": "python",
   "name": "python3"
  },
  "language_info": {
   "codemirror_mode": {
    "name": "ipython",
    "version": 3
   },
   "file_extension": ".py",
   "mimetype": "text/x-python",
   "name": "python",
   "nbconvert_exporter": "python",
   "pygments_lexer": "ipython3",
   "version": "3.7.1"
  }
 },
 "nbformat": 4,
 "nbformat_minor": 2
}
